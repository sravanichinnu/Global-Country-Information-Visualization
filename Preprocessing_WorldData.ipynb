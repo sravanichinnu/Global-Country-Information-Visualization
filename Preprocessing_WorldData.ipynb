{
  "nbformat": 4,
  "nbformat_minor": 0,
  "metadata": {
    "colab": {
      "provenance": []
    },
    "kernelspec": {
      "name": "python3",
      "display_name": "Python 3"
    },
    "language_info": {
      "name": "python"
    }
  },
  "cells": [
    {
      "cell_type": "code",
      "execution_count": 1,
      "metadata": {
        "colab": {
          "base_uri": "https://localhost:8080/"
        },
        "id": "5KmCen4kXgKx",
        "outputId": "606ec0ee-4868-46b5-c233-0b8b05e76316"
      },
      "outputs": [
        {
          "output_type": "stream",
          "name": "stdout",
          "text": [
            "Mounted at /content/drive/\n",
            "[Errno 20] Not a directory: '/content/drive/My Drive/world-data-2023.csv/'\n",
            "/content\n"
          ]
        }
      ],
      "source": [
        "from google.colab import drive\n",
        "drive.mount('/content/drive/')\n",
        "%cd /content/drive/My Drive/world-data-2023.csv/"
      ]
    },
    {
      "cell_type": "code",
      "source": [
        "import pandas as pd\n",
        "import numpy as np"
      ],
      "metadata": {
        "id": "EnHS2sreYlEw"
      },
      "execution_count": 2,
      "outputs": []
    },
    {
      "cell_type": "code",
      "source": [
        "data = pd.read_csv(\"drive/MyDrive/world-data-2023.csv\", encoding='utf-8')"
      ],
      "metadata": {
        "id": "iEcjP-_Daw7t"
      },
      "execution_count": 3,
      "outputs": []
    },
    {
      "cell_type": "code",
      "source": [
        "#describing the data to better understand\n",
        "data.describe"
      ],
      "metadata": {
        "colab": {
          "base_uri": "https://localhost:8080/"
        },
        "id": "gPiQGxrbbIuY",
        "outputId": "7f80d752-c0c1-4eed-f3eb-c080d838ba1a"
      },
      "execution_count": 4,
      "outputs": [
        {
          "output_type": "execute_result",
          "data": {
            "text/plain": [
              "<bound method NDFrame.describe of          Country Density\\n(P/Km2) Abbreviation Agricultural Land( %)  \\\n",
              "0    Afghanistan               60           AF                58.10%   \n",
              "1        Albania              105           AL                43.10%   \n",
              "2        Algeria               18           DZ                17.40%   \n",
              "3        Andorra              164           AD                40.00%   \n",
              "4         Angola               26           AO                47.50%   \n",
              "..           ...              ...          ...                   ...   \n",
              "190    Venezuela               32           VE                24.50%   \n",
              "191      Vietnam              314           VN                39.30%   \n",
              "192        Yemen               56           YE                44.60%   \n",
              "193       Zambia               25           ZM                32.10%   \n",
              "194     Zimbabwe               38           ZW                41.90%   \n",
              "\n",
              "    Land Area(Km2) Armed Forces size  Birth Rate  Calling Code  \\\n",
              "0          652,230           323,000       32.49          93.0   \n",
              "1           28,748             9,000       11.78         355.0   \n",
              "2        2,381,741           317,000       24.28         213.0   \n",
              "3              468               NaN        7.20         376.0   \n",
              "4        1,246,700           117,000       40.73         244.0   \n",
              "..             ...               ...         ...           ...   \n",
              "190        912,050           343,000       17.88          58.0   \n",
              "191        331,210           522,000       16.75          84.0   \n",
              "192        527,968            40,000       30.45         967.0   \n",
              "193        752,618            16,000       36.19         260.0   \n",
              "194        390,757            51,000       30.68         263.0   \n",
              "\n",
              "    Capital/Major City Co2-Emissions  ... Out of pocket health expenditure  \\\n",
              "0                Kabul         8,672  ...                           78.40%   \n",
              "1               Tirana         4,536  ...                           56.90%   \n",
              "2              Algiers       150,006  ...                           28.10%   \n",
              "3     Andorra la Vella           469  ...                           36.40%   \n",
              "4               Luanda        34,693  ...                           33.40%   \n",
              "..                 ...           ...  ...                              ...   \n",
              "190            Caracas       164,175  ...                           45.80%   \n",
              "191              Hanoi       192,668  ...                           43.50%   \n",
              "192              Sanaa        10,609  ...                           81.00%   \n",
              "193             Lusaka         5,141  ...                           27.50%   \n",
              "194             Harare        10,983  ...                           25.80%   \n",
              "\n",
              "    Physicians per thousand  Population  \\\n",
              "0                      0.28  38,041,754   \n",
              "1                      1.20   2,854,191   \n",
              "2                      1.72  43,053,054   \n",
              "3                      3.33      77,142   \n",
              "4                      0.21  31,825,295   \n",
              "..                      ...         ...   \n",
              "190                    1.92  28,515,829   \n",
              "191                    0.82  96,462,106   \n",
              "192                    0.31  29,161,922   \n",
              "193                    1.19  17,861,030   \n",
              "194                    0.21  14,645,468   \n",
              "\n",
              "     Population: Labor force participation (%) Tax revenue (%) Total tax rate  \\\n",
              "0                                       48.90%           9.30%         71.40%   \n",
              "1                                       55.70%          18.60%         36.60%   \n",
              "2                                       41.20%          37.20%         66.10%   \n",
              "3                                          NaN             NaN            NaN   \n",
              "4                                       77.50%           9.20%         49.10%   \n",
              "..                                         ...             ...            ...   \n",
              "190                                     59.70%             NaN         73.30%   \n",
              "191                                     77.40%          19.10%         37.60%   \n",
              "192                                     38.00%             NaN         26.60%   \n",
              "193                                     74.60%          16.20%         15.60%   \n",
              "194                                     83.10%          20.70%         31.60%   \n",
              "\n",
              "    Unemployment rate Urban_population   Latitude   Longitude  \n",
              "0              11.12%        9,797,273  33.939110   67.709953  \n",
              "1              12.33%        1,747,593  41.153332   20.168331  \n",
              "2              11.70%       31,510,100  28.033886    1.659626  \n",
              "3                 NaN           67,873  42.506285    1.521801  \n",
              "4               6.89%       21,061,025 -11.202692   17.873887  \n",
              "..                ...              ...        ...         ...  \n",
              "190             8.80%       25,162,368   6.423750  -66.589730  \n",
              "191             2.01%       35,332,140  14.058324  108.277199  \n",
              "192            12.91%       10,869,523  15.552727   48.516388  \n",
              "193            11.43%        7,871,713 -13.133897   27.849332  \n",
              "194             4.95%        4,717,305 -19.015438   29.154857  \n",
              "\n",
              "[195 rows x 35 columns]>"
            ]
          },
          "metadata": {},
          "execution_count": 4
        }
      ]
    },
    {
      "cell_type": "code",
      "source": [
        "#datatypes of all the columns of data\n",
        "data.dtypes"
      ],
      "metadata": {
        "colab": {
          "base_uri": "https://localhost:8080/"
        },
        "id": "VstQDQi8e7SZ",
        "outputId": "a02fb730-a017-466a-ac20-f8b2c0bd9ec9"
      },
      "execution_count": 5,
      "outputs": [
        {
          "output_type": "execute_result",
          "data": {
            "text/plain": [
              "Country                                       object\n",
              "Density\\n(P/Km2)                              object\n",
              "Abbreviation                                  object\n",
              "Agricultural Land( %)                         object\n",
              "Land Area(Km2)                                object\n",
              "Armed Forces size                             object\n",
              "Birth Rate                                   float64\n",
              "Calling Code                                 float64\n",
              "Capital/Major City                            object\n",
              "Co2-Emissions                                 object\n",
              "CPI                                           object\n",
              "CPI Change (%)                                object\n",
              "Currency-Code                                 object\n",
              "Fertility Rate                               float64\n",
              "Forested Area (%)                             object\n",
              "Gasoline Price                                object\n",
              "GDP                                           object\n",
              "Gross primary education enrollment (%)        object\n",
              "Gross tertiary education enrollment (%)       object\n",
              "Infant mortality                             float64\n",
              "Largest city                                  object\n",
              "Life expectancy                              float64\n",
              "Maternal mortality ratio                     float64\n",
              "Minimum wage                                  object\n",
              "Official language                             object\n",
              "Out of pocket health expenditure              object\n",
              "Physicians per thousand                      float64\n",
              "Population                                    object\n",
              "Population: Labor force participation (%)     object\n",
              "Tax revenue (%)                               object\n",
              "Total tax rate                                object\n",
              "Unemployment rate                             object\n",
              "Urban_population                              object\n",
              "Latitude                                     float64\n",
              "Longitude                                    float64\n",
              "dtype: object"
            ]
          },
          "metadata": {},
          "execution_count": 5
        }
      ]
    },
    {
      "cell_type": "code",
      "source": [
        "#checking for null values in the data\n",
        "missing_total_values = data.isnull().sum()\n",
        "missing_total_values"
      ],
      "metadata": {
        "colab": {
          "base_uri": "https://localhost:8080/"
        },
        "id": "-BOa6q-7gkSZ",
        "outputId": "12f0496d-caa9-4b00-e88f-5b6ba53bc051"
      },
      "execution_count": 6,
      "outputs": [
        {
          "output_type": "execute_result",
          "data": {
            "text/plain": [
              "Country                                       0\n",
              "Density\\n(P/Km2)                              0\n",
              "Abbreviation                                  7\n",
              "Agricultural Land( %)                         7\n",
              "Land Area(Km2)                                1\n",
              "Armed Forces size                            24\n",
              "Birth Rate                                    6\n",
              "Calling Code                                  1\n",
              "Capital/Major City                            3\n",
              "Co2-Emissions                                 7\n",
              "CPI                                          17\n",
              "CPI Change (%)                               16\n",
              "Currency-Code                                15\n",
              "Fertility Rate                                7\n",
              "Forested Area (%)                             7\n",
              "Gasoline Price                               20\n",
              "GDP                                           2\n",
              "Gross primary education enrollment (%)        7\n",
              "Gross tertiary education enrollment (%)      12\n",
              "Infant mortality                              6\n",
              "Largest city                                  6\n",
              "Life expectancy                               8\n",
              "Maternal mortality ratio                     14\n",
              "Minimum wage                                 45\n",
              "Official language                             1\n",
              "Out of pocket health expenditure              7\n",
              "Physicians per thousand                       7\n",
              "Population                                    1\n",
              "Population: Labor force participation (%)    19\n",
              "Tax revenue (%)                              26\n",
              "Total tax rate                               12\n",
              "Unemployment rate                            19\n",
              "Urban_population                              5\n",
              "Latitude                                      1\n",
              "Longitude                                     1\n",
              "dtype: int64"
            ]
          },
          "metadata": {},
          "execution_count": 6
        }
      ]
    },
    {
      "cell_type": "code",
      "source": [
        "#converting columns into their numerical formats to ensure they are of numerical datatype\n",
        "num_columns = ['Density\\n(P/Km2)','Agricultural Land( %)','Land Area(Km2)','Armed Forces size','Co2-Emissions',\n",
        "               'CPI','CPI Change (%)','Forested Area (%)','Gasoline Price','GDP','Gross primary education enrollment (%)',\n",
        "               'Gross tertiary education enrollment (%)','Minimum wage','Out of pocket health expenditure',\n",
        "               'Population','Population: Labor force participation (%)','Tax revenue (%)','Total tax rate','Unemployment rate','Urban_population']\n",
        "\n",
        "for col in num_columns:\n",
        "  data[col] = data[col].astype(str)\n",
        "  data[col] = data[col].str.strip().replace([',','%','\\$'], '',regex=True).astype(float)"
      ],
      "metadata": {
        "id": "mEFReEZ04wxL"
      },
      "execution_count": 7,
      "outputs": []
    },
    {
      "cell_type": "code",
      "source": [
        "data['Agricultural Land( %)']"
      ],
      "metadata": {
        "colab": {
          "base_uri": "https://localhost:8080/"
        },
        "id": "oHkdQUu9b8bk",
        "outputId": "4836dfc5-49d9-43f7-ee0c-ce9ba4f77682"
      },
      "execution_count": 8,
      "outputs": [
        {
          "output_type": "execute_result",
          "data": {
            "text/plain": [
              "0      58.1\n",
              "1      43.1\n",
              "2      17.4\n",
              "3      40.0\n",
              "4      47.5\n",
              "       ... \n",
              "190    24.5\n",
              "191    39.3\n",
              "192    44.6\n",
              "193    32.1\n",
              "194    41.9\n",
              "Name: Agricultural Land( %), Length: 195, dtype: float64"
            ]
          },
          "metadata": {},
          "execution_count": 8
        }
      ]
    },
    {
      "cell_type": "code",
      "source": [
        "data['Land Area(Km2)']"
      ],
      "metadata": {
        "colab": {
          "base_uri": "https://localhost:8080/"
        },
        "id": "o0vximLqcCIo",
        "outputId": "0141817f-c911-4ca6-f19f-bba37ef3d1b2"
      },
      "execution_count": 9,
      "outputs": [
        {
          "output_type": "execute_result",
          "data": {
            "text/plain": [
              "0       652230.0\n",
              "1        28748.0\n",
              "2      2381741.0\n",
              "3          468.0\n",
              "4      1246700.0\n",
              "         ...    \n",
              "190     912050.0\n",
              "191     331210.0\n",
              "192     527968.0\n",
              "193     752618.0\n",
              "194     390757.0\n",
              "Name: Land Area(Km2), Length: 195, dtype: float64"
            ]
          },
          "metadata": {},
          "execution_count": 9
        }
      ]
    },
    {
      "cell_type": "code",
      "source": [
        "data.dtypes"
      ],
      "metadata": {
        "colab": {
          "base_uri": "https://localhost:8080/"
        },
        "id": "XhxtA0A1cKNM",
        "outputId": "abd5b090-323d-4c65-a909-d44a1de723d5"
      },
      "execution_count": 10,
      "outputs": [
        {
          "output_type": "execute_result",
          "data": {
            "text/plain": [
              "Country                                       object\n",
              "Density\\n(P/Km2)                             float64\n",
              "Abbreviation                                  object\n",
              "Agricultural Land( %)                        float64\n",
              "Land Area(Km2)                               float64\n",
              "Armed Forces size                            float64\n",
              "Birth Rate                                   float64\n",
              "Calling Code                                 float64\n",
              "Capital/Major City                            object\n",
              "Co2-Emissions                                float64\n",
              "CPI                                          float64\n",
              "CPI Change (%)                               float64\n",
              "Currency-Code                                 object\n",
              "Fertility Rate                               float64\n",
              "Forested Area (%)                            float64\n",
              "Gasoline Price                               float64\n",
              "GDP                                          float64\n",
              "Gross primary education enrollment (%)       float64\n",
              "Gross tertiary education enrollment (%)      float64\n",
              "Infant mortality                             float64\n",
              "Largest city                                  object\n",
              "Life expectancy                              float64\n",
              "Maternal mortality ratio                     float64\n",
              "Minimum wage                                 float64\n",
              "Official language                             object\n",
              "Out of pocket health expenditure             float64\n",
              "Physicians per thousand                      float64\n",
              "Population                                   float64\n",
              "Population: Labor force participation (%)    float64\n",
              "Tax revenue (%)                              float64\n",
              "Total tax rate                               float64\n",
              "Unemployment rate                            float64\n",
              "Urban_population                             float64\n",
              "Latitude                                     float64\n",
              "Longitude                                    float64\n",
              "dtype: object"
            ]
          },
          "metadata": {},
          "execution_count": 10
        }
      ]
    },
    {
      "cell_type": "code",
      "source": [
        "datatypes_country = data['Country'].apply(type).value_counts()\n",
        "datatypes_country"
      ],
      "metadata": {
        "colab": {
          "base_uri": "https://localhost:8080/"
        },
        "id": "QbwHFA0QzRRB",
        "outputId": "7a00be16-b3d7-4562-ed34-248f13d8fdef"
      },
      "execution_count": 13,
      "outputs": [
        {
          "output_type": "execute_result",
          "data": {
            "text/plain": [
              "<class 'str'>    195\n",
              "Name: Country, dtype: int64"
            ]
          },
          "metadata": {},
          "execution_count": 13
        }
      ]
    },
    {
      "cell_type": "code",
      "source": [
        "#Identified some garbage in the dataset. so checkign for how many columns have this garbage data and removing it.\n",
        "#garbage_pattern = 'ÔøΩ'\n",
        "#ncells_with_garbage = data.applymap(lambda x: garbage_pattern in str(x)).any(axis=1).sum()\n",
        "#ncells_with_garbage\n",
        "#garbage_mask = data.apply(lambda col: col.astype(str).str.contains(garbage_pattern)).any(axis=1)\n",
        "#nrows_with_garbage = garbage_mask.sum()\n",
        "\n",
        "# remove = data[data['Country']=='S']\n",
        "\n",
        "# remove_index = remove.index\n",
        "# print(\"index of the row to be removed: \",remove_index)\n",
        "# data = data.drop(remove_index)\n",
        "# data"
      ],
      "metadata": {
        "id": "YtTG0xM-z5Wy"
      },
      "execution_count": 14,
      "outputs": []
    },
    {
      "cell_type": "code",
      "source": [
        "data.dtypes"
      ],
      "metadata": {
        "colab": {
          "base_uri": "https://localhost:8080/"
        },
        "id": "e37yPjLmekMw",
        "outputId": "987e8efc-ae8b-478b-ea2e-f676129a43e8"
      },
      "execution_count": 15,
      "outputs": [
        {
          "output_type": "execute_result",
          "data": {
            "text/plain": [
              "Country                                       object\n",
              "Density\\n(P/Km2)                             float64\n",
              "Abbreviation                                  object\n",
              "Agricultural Land( %)                        float64\n",
              "Land Area(Km2)                               float64\n",
              "Armed Forces size                            float64\n",
              "Birth Rate                                   float64\n",
              "Calling Code                                 float64\n",
              "Capital/Major City                            object\n",
              "Co2-Emissions                                float64\n",
              "CPI                                          float64\n",
              "CPI Change (%)                               float64\n",
              "Currency-Code                                 object\n",
              "Fertility Rate                               float64\n",
              "Forested Area (%)                            float64\n",
              "Gasoline Price                               float64\n",
              "GDP                                          float64\n",
              "Gross primary education enrollment (%)       float64\n",
              "Gross tertiary education enrollment (%)      float64\n",
              "Infant mortality                             float64\n",
              "Largest city                                  object\n",
              "Life expectancy                              float64\n",
              "Maternal mortality ratio                     float64\n",
              "Minimum wage                                 float64\n",
              "Official language                             object\n",
              "Out of pocket health expenditure             float64\n",
              "Physicians per thousand                      float64\n",
              "Population                                   float64\n",
              "Population: Labor force participation (%)    float64\n",
              "Tax revenue (%)                              float64\n",
              "Total tax rate                               float64\n",
              "Unemployment rate                            float64\n",
              "Urban_population                             float64\n",
              "Latitude                                     float64\n",
              "Longitude                                    float64\n",
              "dtype: object"
            ]
          },
          "metadata": {},
          "execution_count": 15
        }
      ]
    },
    {
      "cell_type": "code",
      "source": [
        "categorical_cols = ['Country','Abbreviation','Capital/Major City','Currency-Code','Largest city',\n",
        "                    'Official language']\n",
        "numerical_cols = ['Density\\n(P/Km2)','Agricultural Land( %)','Land Area(Km2)','Armed Forces size','Birth Rate','Calling Code','Co2-Emissions',\n",
        "               'CPI','CPI Change (%)','Fertility Rate','Forested Area (%)','Gasoline Price','GDP','Gross primary education enrollment (%)',\n",
        "               'Gross tertiary education enrollment (%)','Infant mortality','Life expectancy','Maternal mortality ratio','Minimum wage','Out of pocket health expenditure',\n",
        "               'Physicians per thousand','Population','Population: Labor force participation (%)','Tax revenue (%)','Total tax rate','Unemployment rate','Urban_population',\n",
        "                  'Latitude','Longitude']"
      ],
      "metadata": {
        "id": "POK8V4SiMyFX"
      },
      "execution_count": 16,
      "outputs": []
    },
    {
      "cell_type": "code",
      "source": [
        "for col in numerical_cols:\n",
        "  #data[col] =\n",
        "  data[col].fillna(data[col].mean(), inplace=True)"
      ],
      "metadata": {
        "id": "Cv5FN3ddZ2c5"
      },
      "execution_count": 17,
      "outputs": []
    },
    {
      "cell_type": "code",
      "source": [
        "#verification for null values in numerical columns\n",
        "missing_total_values = data.isnull().sum()\n",
        "missing_total_values"
      ],
      "metadata": {
        "colab": {
          "base_uri": "https://localhost:8080/"
        },
        "id": "nHzNxQoeDwJq",
        "outputId": "77b16e18-a2e3-47ed-999f-897d6ee8d0c0"
      },
      "execution_count": 18,
      "outputs": [
        {
          "output_type": "execute_result",
          "data": {
            "text/plain": [
              "Country                                       0\n",
              "Density\\n(P/Km2)                              0\n",
              "Abbreviation                                  7\n",
              "Agricultural Land( %)                         0\n",
              "Land Area(Km2)                                0\n",
              "Armed Forces size                             0\n",
              "Birth Rate                                    0\n",
              "Calling Code                                  0\n",
              "Capital/Major City                            3\n",
              "Co2-Emissions                                 0\n",
              "CPI                                           0\n",
              "CPI Change (%)                                0\n",
              "Currency-Code                                15\n",
              "Fertility Rate                                0\n",
              "Forested Area (%)                             0\n",
              "Gasoline Price                                0\n",
              "GDP                                           0\n",
              "Gross primary education enrollment (%)        0\n",
              "Gross tertiary education enrollment (%)       0\n",
              "Infant mortality                              0\n",
              "Largest city                                  6\n",
              "Life expectancy                               0\n",
              "Maternal mortality ratio                      0\n",
              "Minimum wage                                  0\n",
              "Official language                             1\n",
              "Out of pocket health expenditure              0\n",
              "Physicians per thousand                       0\n",
              "Population                                    0\n",
              "Population: Labor force participation (%)     0\n",
              "Tax revenue (%)                               0\n",
              "Total tax rate                                0\n",
              "Unemployment rate                             0\n",
              "Urban_population                              0\n",
              "Latitude                                      0\n",
              "Longitude                                     0\n",
              "dtype: int64"
            ]
          },
          "metadata": {},
          "execution_count": 18
        }
      ]
    },
    {
      "cell_type": "code",
      "source": [
        "for col in categorical_cols:\n",
        "  #data[col] =\n",
        "  data[col].fillna(data[col].mode()[0], inplace=True)"
      ],
      "metadata": {
        "id": "wkbOvCJ3c0pS"
      },
      "execution_count": 19,
      "outputs": []
    },
    {
      "cell_type": "code",
      "source": [
        "#verification for null values in categorical columns\n",
        "missing_total_values = data.isnull().sum()\n",
        "missing_total_values"
      ],
      "metadata": {
        "colab": {
          "base_uri": "https://localhost:8080/"
        },
        "id": "CsWfjtA3D7cl",
        "outputId": "ec902488-ae84-4b4f-cd92-be873e998e96"
      },
      "execution_count": 20,
      "outputs": [
        {
          "output_type": "execute_result",
          "data": {
            "text/plain": [
              "Country                                      0\n",
              "Density\\n(P/Km2)                             0\n",
              "Abbreviation                                 0\n",
              "Agricultural Land( %)                        0\n",
              "Land Area(Km2)                               0\n",
              "Armed Forces size                            0\n",
              "Birth Rate                                   0\n",
              "Calling Code                                 0\n",
              "Capital/Major City                           0\n",
              "Co2-Emissions                                0\n",
              "CPI                                          0\n",
              "CPI Change (%)                               0\n",
              "Currency-Code                                0\n",
              "Fertility Rate                               0\n",
              "Forested Area (%)                            0\n",
              "Gasoline Price                               0\n",
              "GDP                                          0\n",
              "Gross primary education enrollment (%)       0\n",
              "Gross tertiary education enrollment (%)      0\n",
              "Infant mortality                             0\n",
              "Largest city                                 0\n",
              "Life expectancy                              0\n",
              "Maternal mortality ratio                     0\n",
              "Minimum wage                                 0\n",
              "Official language                            0\n",
              "Out of pocket health expenditure             0\n",
              "Physicians per thousand                      0\n",
              "Population                                   0\n",
              "Population: Labor force participation (%)    0\n",
              "Tax revenue (%)                              0\n",
              "Total tax rate                               0\n",
              "Unemployment rate                            0\n",
              "Urban_population                             0\n",
              "Latitude                                     0\n",
              "Longitude                                    0\n",
              "dtype: int64"
            ]
          },
          "metadata": {},
          "execution_count": 20
        }
      ]
    },
    {
      "cell_type": "code",
      "source": [
        "# data['Currency-Code'].fillna('Unknown', inplace=True)\n",
        "# mode_currency = data['Currency-Code'].mode()[0]\n",
        "# data['Currency-Code'].replace('Unknown', mode_currency, inplace=True)\n"
      ],
      "metadata": {
        "id": "pzhropf4PJDe"
      },
      "execution_count": 21,
      "outputs": []
    },
    {
      "cell_type": "markdown",
      "source": [
        "**Successfully, removed the null values by replacing with their column's mode or mean as per whether they are numerical or categorical columns.**"
      ],
      "metadata": {
        "id": "AzsCcckBVi5U"
      }
    },
    {
      "cell_type": "code",
      "source": [
        "data.to_csv('cleaned_data.csv', index=False)\n",
        "from google.colab import files\n",
        "files.download('cleaned_data.csv')"
      ],
      "metadata": {
        "colab": {
          "base_uri": "https://localhost:8080/",
          "height": 17
        },
        "id": "4KBOD8deYXw1",
        "outputId": "54ab09a3-8a33-40e6-e2d8-3c608c50353e"
      },
      "execution_count": 22,
      "outputs": [
        {
          "output_type": "display_data",
          "data": {
            "text/plain": [
              "<IPython.core.display.Javascript object>"
            ],
            "application/javascript": [
              "\n",
              "    async function download(id, filename, size) {\n",
              "      if (!google.colab.kernel.accessAllowed) {\n",
              "        return;\n",
              "      }\n",
              "      const div = document.createElement('div');\n",
              "      const label = document.createElement('label');\n",
              "      label.textContent = `Downloading \"${filename}\": `;\n",
              "      div.appendChild(label);\n",
              "      const progress = document.createElement('progress');\n",
              "      progress.max = size;\n",
              "      div.appendChild(progress);\n",
              "      document.body.appendChild(div);\n",
              "\n",
              "      const buffers = [];\n",
              "      let downloaded = 0;\n",
              "\n",
              "      const channel = await google.colab.kernel.comms.open(id);\n",
              "      // Send a message to notify the kernel that we're ready.\n",
              "      channel.send({})\n",
              "\n",
              "      for await (const message of channel.messages) {\n",
              "        // Send a message to notify the kernel that we're ready.\n",
              "        channel.send({})\n",
              "        if (message.buffers) {\n",
              "          for (const buffer of message.buffers) {\n",
              "            buffers.push(buffer);\n",
              "            downloaded += buffer.byteLength;\n",
              "            progress.value = downloaded;\n",
              "          }\n",
              "        }\n",
              "      }\n",
              "      const blob = new Blob(buffers, {type: 'application/binary'});\n",
              "      const a = document.createElement('a');\n",
              "      a.href = window.URL.createObjectURL(blob);\n",
              "      a.download = filename;\n",
              "      div.appendChild(a);\n",
              "      a.click();\n",
              "      div.remove();\n",
              "    }\n",
              "  "
            ]
          },
          "metadata": {}
        },
        {
          "output_type": "display_data",
          "data": {
            "text/plain": [
              "<IPython.core.display.Javascript object>"
            ],
            "application/javascript": [
              "download(\"download_f49a9c51-b7dc-40c4-a1c4-bfef06ad9a65\", \"cleaned_data.csv\", 49525)"
            ]
          },
          "metadata": {}
        }
      ]
    }
  ]
}